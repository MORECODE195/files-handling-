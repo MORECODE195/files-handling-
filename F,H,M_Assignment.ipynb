{
  "nbformat": 4,
  "nbformat_minor": 0,
  "metadata": {
    "colab": {
      "provenance": []
    },
    "kernelspec": {
      "name": "python3",
      "display_name": "Python 3"
    },
    "language_info": {
      "name": "python"
    }
  },
  "cells": [
    {
      "cell_type": "code",
      "execution_count": null,
      "metadata": {
        "id": "sjPrCTVoXTWh"
      },
      "outputs": [],
      "source": []
    },
    {
      "cell_type": "markdown",
      "source": [
        "# 1. What is the difference between interpreted and compiled languages?\n"
      ],
      "metadata": {
        "id": "5GZ8XbOYXes7"
      }
    },
    {
      "cell_type": "markdown",
      "source": [
        "Answer. The main difference between interpreted and compiled language is how the Code is processed."
      ],
      "metadata": {
        "id": "f14CbyRfYTOj"
      }
    },
    {
      "cell_type": "markdown",
      "source": [
        "# 2. What is exception handling in Python?\n"
      ],
      "metadata": {
        "id": "9od_qjR6aNYa"
      }
    },
    {
      "cell_type": "markdown",
      "source": [
        "Answer. In python an Exception is an event that occurs during the program execution that disrupts the regular flow of code."
      ],
      "metadata": {
        "id": "YYQH6jD7X9t0"
      }
    },
    {
      "cell_type": "markdown",
      "source": [
        "# 3. What is the purpose of the finally block in exception handling?\n"
      ],
      "metadata": {
        "id": "8dlEqCkXho3v"
      }
    },
    {
      "cell_type": "markdown",
      "source": [
        "Answer. The purpose of the finally block in execution handling is to ensure that important code is executed regardless of whether an exception is thrown."
      ],
      "metadata": {
        "id": "gkHVdEO9jPmV"
      }
    },
    {
      "cell_type": "markdown",
      "source": [
        "# 4. What is logging in Python?\n"
      ],
      "metadata": {
        "id": "kmpFsoLEjych"
      }
    },
    {
      "cell_type": "markdown",
      "source": [
        "Answer. Python logging records the state and flow of program, code or software"
      ],
      "metadata": {
        "id": "n9_InU4_kd9e"
      }
    },
    {
      "cell_type": "markdown",
      "source": [
        "# 5. What is the significance of the __del__ method in Python?\n"
      ],
      "metadata": {
        "id": "zd5CjAT5k_Ju"
      }
    },
    {
      "cell_type": "markdown",
      "source": [
        "Answer. Python's \"del\" method is used to delete variables and objects in the python program."
      ],
      "metadata": {
        "id": "kxNwgHSHlOLg"
      }
    },
    {
      "cell_type": "markdown",
      "source": [
        "# 6. What is the difference between import and from ... import in Python?\n"
      ],
      "metadata": {
        "id": "gBEjHEj4lNyd"
      }
    },
    {
      "cell_type": "markdown",
      "source": [
        "Answer. import imports an entire code libraby. from import imports a specific member or members of the libraby."
      ],
      "metadata": {
        "id": "voBHZf90l2Iv"
      }
    },
    {
      "cell_type": "markdown",
      "source": [
        "# 7. How can you handle multiple exceptions in Python?\n",
        "\n"
      ],
      "metadata": {
        "id": "CyUC4HS6m2XU"
      }
    },
    {
      "cell_type": "markdown",
      "source": [
        "Answer. In python you can handle multiple exceptions using try-except blocks with multiple except."
      ],
      "metadata": {
        "id": "M2y1fAthm1xr"
      }
    },
    {
      "cell_type": "markdown",
      "source": [
        "# 8. What is the purpose of the with statement when handling files in Python?\n"
      ],
      "metadata": {
        "id": "3Jsx4Y6DpW0F"
      }
    },
    {
      "cell_type": "markdown",
      "source": [
        "Answer. The with statement in python replaces a try-catch block with a concise shorthand. It ensures closing resources right after processing them."
      ],
      "metadata": {
        "id": "ONhMSEMSqLH0"
      }
    },
    {
      "cell_type": "markdown",
      "source": [
        "# 9. What is the difference between multithreading and multiprocessing?\n"
      ],
      "metadata": {
        "id": "uDT5qCg8qus6"
      }
    },
    {
      "cell_type": "markdown",
      "source": [
        "Answer. Multithreading uses a single process to execute multiple threads simultaniously while Multiprocessing uses multiple processors to run multiple processes."
      ],
      "metadata": {
        "id": "Kd3j3fClrFog"
      }
    },
    {
      "cell_type": "markdown",
      "source": [
        "# 10. What are the advantages of using logging in a program?\n"
      ],
      "metadata": {
        "id": "w_yOhv8BtI-I"
      }
    },
    {
      "cell_type": "markdown",
      "source": [
        "Answer. The advantages of using logging are:- Debugging, Understanding application behaviour, monitoring etc."
      ],
      "metadata": {
        "id": "K73UPHTstl_V"
      }
    },
    {
      "cell_type": "markdown",
      "source": [
        "# 11. What is memory management in Python?\n"
      ],
      "metadata": {
        "id": "MQexviEduTI6"
      }
    },
    {
      "cell_type": "markdown",
      "source": [
        "Answer. Memory management in python is the process of automatically allocating and de-allocating memory so that programs can run efficiently."
      ],
      "metadata": {
        "id": "RXmRdcBmuuO4"
      }
    },
    {
      "cell_type": "markdown",
      "source": [
        "# 12. What are the basic steps involved in exception handling in Python?\n"
      ],
      "metadata": {
        "id": "h-FMmUYnutt4"
      }
    },
    {
      "cell_type": "markdown",
      "source": [
        "Answer. The basic steps involved in exception handling in python are try & except blocks, finally block etc."
      ],
      "metadata": {
        "id": "dw_iQi53v1rK"
      }
    },
    {
      "cell_type": "markdown",
      "source": [
        "# 13. Why is memory management important in Python?\n"
      ],
      "metadata": {
        "id": "TRoswbH0wUyO"
      }
    },
    {
      "cell_type": "markdown",
      "source": [
        "Answer. Memory management in python is important because it allows programs to run efficiently which can lead to faster processing and less memory usage."
      ],
      "metadata": {
        "id": "rKfypmIdwh39"
      }
    },
    {
      "cell_type": "markdown",
      "source": [
        " # 14. What is the role of try and except in exception handling ?\n"
      ],
      "metadata": {
        "id": "rnbXC6AUP7iS"
      }
    },
    {
      "cell_type": "markdown",
      "source": [
        "  Answer. The try block lets us test a block of code for errors and the except block lets us to handle the error."
      ],
      "metadata": {
        "id": "XR6_ES-fP7eW"
      }
    },
    {
      "cell_type": "markdown",
      "source": [
        "# 15 How does Python's garbage collection system work?\n"
      ],
      "metadata": {
        "id": "eamrjjNRP7ag"
      }
    },
    {
      "cell_type": "markdown",
      "source": [
        " Answer. The garbage collector helps to prevent memmory leakage which can cause a problem by crashing or slowing down the program. it also ensures that the memory is used efficiently and clears the unused objects out of the memory."
      ],
      "metadata": {
        "id": "qnOJt4xrP7Wb"
      }
    },
    {
      "cell_type": "markdown",
      "source": [
        "# 16. What is the purpose of the else block in exception handling?\n"
      ],
      "metadata": {
        "id": "145P00JDP7Se"
      }
    },
    {
      "cell_type": "markdown",
      "source": [
        " Answer. The else block lets us to execute the code when there is no error."
      ],
      "metadata": {
        "id": "Tg8a2Z-yP645"
      }
    },
    {
      "cell_type": "markdown",
      "source": [
        " # 17. What are the common logging levels in Python?\n"
      ],
      "metadata": {
        "id": "ThXxpoOqUUuv"
      }
    },
    {
      "cell_type": "markdown",
      "source": [
        " Answer. The common logging levels in python are:-\n",
        " 1] Debug,   2] Info,      3] Warning,   4] Error,  5]Critical."
      ],
      "metadata": {
        "id": "6dLOCpgSUWl6"
      }
    },
    {
      "cell_type": "markdown",
      "source": [
        "# 18. What is the difference between os.fork() and multiprocessing in Python?\n"
      ],
      "metadata": {
        "id": "xFfgpJQiUWir"
      }
    },
    {
      "cell_type": "markdown",
      "source": [
        " Answer. os.fork method creates a copy of the current process that has called it, whereas multiprocessing is a higher level interface to execute a part of the currently running program."
      ],
      "metadata": {
        "id": "tgWzt3kYUWfZ"
      }
    },
    {
      "cell_type": "markdown",
      "source": [
        "# 19. What is the importance of closing a file in Python ?\n"
      ],
      "metadata": {
        "id": "MVBFY346UWbr"
      }
    },
    {
      "cell_type": "markdown",
      "source": [
        " Answer. It is necessary to close a file because files are limited resourses managed by the operating system. Closing the file after use will protect against hard-to-debug issues like running out of file handles or corrupt data."
      ],
      "metadata": {
        "id": "BfTmnV7BYGkB"
      }
    },
    {
      "cell_type": "markdown",
      "source": [
        "# 20. What is the difference between file.read() and file.readline() in Python ?\n"
      ],
      "metadata": {
        "id": "CRmKZfuCUWYC"
      }
    },
    {
      "cell_type": "markdown",
      "source": [
        " Answer. Difference between file.read() and file.readline() are: read() retrieves the entire content as a single string and readline() reads one line at a time."
      ],
      "metadata": {
        "id": "wxpypkjPZ28d"
      }
    },
    {
      "cell_type": "markdown",
      "source": [
        "# 21. What is the logging module in Python used for ?\n"
      ],
      "metadata": {
        "id": "a_n2yqAmUWUY"
      }
    },
    {
      "cell_type": "markdown",
      "source": [
        " Answer. Logging module in python is used to record information about errors, warning and other events that occur during program execution. it is usefool tool for debugging, troubleshooting and monitoring the program."
      ],
      "metadata": {
        "id": "RSAIehqYUWQy"
      }
    },
    {
      "cell_type": "markdown",
      "source": [
        "# 22. What is the os module in Python used for in file handling ?\n"
      ],
      "metadata": {
        "id": "1dQY4qgdUWM9"
      }
    },
    {
      "cell_type": "markdown",
      "source": [
        " Answer. In file handling the os module is useful to letting us work with or create the files and directories, management of files and directories, input, output, environment variables etc."
      ],
      "metadata": {
        "id": "CzsnrCfyUWHd"
      }
    },
    {
      "cell_type": "markdown",
      "source": [
        " # 23. What are the challenges associated with memory management in Python ?\n"
      ],
      "metadata": {
        "id": "Inybz5IlUWCd"
      }
    },
    {
      "cell_type": "markdown",
      "source": [
        " Answer. Challenges associated with memory management in python are:- Slower runtime,  Memory fragmentation,  Memory leaks,  Excessive number of items."
      ],
      "metadata": {
        "id": "zdDLjUIYUV9x"
      }
    },
    {
      "cell_type": "markdown",
      "source": [
        "# 24.  How do you raise an exception manually in Python ?\n"
      ],
      "metadata": {
        "id": "EANnMUQ8UV23"
      }
    },
    {
      "cell_type": "markdown",
      "source": [
        " Answer. To raise an exception manually in python, use 'raise' keyword."
      ],
      "metadata": {
        "id": "EREpsYdoeXw5"
      }
    },
    {
      "cell_type": "markdown",
      "source": [
        "# 25. Why is it important to use multithreading in certain applications ?"
      ],
      "metadata": {
        "id": "ULOmU9AsUVT8"
      }
    },
    {
      "cell_type": "markdown",
      "source": [
        " Answer. Using multithreading in certain applications is important because it improves CPU efficiency, runs faster,  enhances scalability,  improve application,  improve system reliability, etc."
      ],
      "metadata": {
        "id": "R_kubDarfibW"
      }
    },
    {
      "cell_type": "code",
      "source": [],
      "metadata": {
        "id": "joAaWbcygFtk"
      },
      "execution_count": null,
      "outputs": []
    },
    {
      "cell_type": "markdown",
      "source": [
        "# PRACTICAL QUESTIONS."
      ],
      "metadata": {
        "id": "Pfgvw_1ygHwx"
      }
    },
    {
      "cell_type": "markdown",
      "source": [
        "# 1. How can you open a file for writing in Python and write a string to it ?\n"
      ],
      "metadata": {
        "id": "h_gtQiV3gI0b"
      }
    },
    {
      "cell_type": "code",
      "source": [
        "file = open('file.txt', 'w')"
      ],
      "metadata": {
        "id": "x1SsMV8xgg_T"
      },
      "execution_count": null,
      "outputs": []
    },
    {
      "cell_type": "code",
      "source": [
        "file.write('Hello welcome to pwskills')"
      ],
      "metadata": {
        "colab": {
          "base_uri": "https://localhost:8080/"
        },
        "id": "kOlpmzDbhEYu",
        "outputId": "d629f22e-5c1e-48ca-82a4-2c7e9b9dae83"
      },
      "execution_count": null,
      "outputs": [
        {
          "output_type": "execute_result",
          "data": {
            "text/plain": [
              "25"
            ]
          },
          "metadata": {},
          "execution_count": 2
        }
      ]
    },
    {
      "cell_type": "code",
      "source": [
        "file.close()"
      ],
      "metadata": {
        "id": "43IkH3OihXPG"
      },
      "execution_count": null,
      "outputs": []
    },
    {
      "cell_type": "markdown",
      "source": [
        "# 2. Write a Python program to read the contents of a file and print each line.\n"
      ],
      "metadata": {
        "id": "jwDxkTaihmdE"
      }
    },
    {
      "cell_type": "code",
      "source": [
        "file = open('file.txt', 'w')\n",
        "file.write('hello jay welcome home\\n')\n",
        "file.write('please be seated')\n",
        "file.close()"
      ],
      "metadata": {
        "id": "FRLrppVXjARo"
      },
      "execution_count": null,
      "outputs": []
    },
    {
      "cell_type": "code",
      "source": [
        "file = open('file.txt', 'r')\n",
        "file"
      ],
      "metadata": {
        "colab": {
          "base_uri": "https://localhost:8080/"
        },
        "id": "ZgIs1abKjqw8",
        "outputId": "ff3912ed-f5b1-402c-ca9f-8d0e3032646a"
      },
      "execution_count": null,
      "outputs": [
        {
          "output_type": "execute_result",
          "data": {
            "text/plain": [
              "<_io.TextIOWrapper name='file.txt' mode='r' encoding='UTF-8'>"
            ]
          },
          "metadata": {},
          "execution_count": 10
        }
      ]
    },
    {
      "cell_type": "code",
      "source": [
        "for i in file:\n",
        "  print(i)"
      ],
      "metadata": {
        "colab": {
          "base_uri": "https://localhost:8080/"
        },
        "id": "p2wRp2a0kGdE",
        "outputId": "e298f38f-b726-4f54-980a-ee6869208c52"
      },
      "execution_count": null,
      "outputs": [
        {
          "output_type": "stream",
          "name": "stdout",
          "text": [
            "hello jay welcome home\n",
            "\n",
            "please be seated\n"
          ]
        }
      ]
    },
    {
      "cell_type": "markdown",
      "source": [
        "# 3. How would you handle a case where the file doesn't exist while trying to open it for reading ?\n"
      ],
      "metadata": {
        "id": "kOORIP7ckPTl"
      }
    },
    {
      "cell_type": "code",
      "source": [
        "file = open('file.test', 'w')  # 'w'>> write mode, if a file does not exist, it will create the 'file.test' and then write something in it and execute and you can read it"
      ],
      "metadata": {
        "id": "lmJTI7B8kLw1"
      },
      "execution_count": null,
      "outputs": []
    },
    {
      "cell_type": "markdown",
      "source": [
        "# 4. Write a Python script that reads from one file and writes its content to another file.\n"
      ],
      "metadata": {
        "id": "H35_Q5G3l7s2"
      }
    },
    {
      "cell_type": "code",
      "source": [
        "import os\n",
        "print('list of files')\n",
        "print(os.listdir())\n",
        "print('\\n')"
      ],
      "metadata": {
        "colab": {
          "base_uri": "https://localhost:8080/"
        },
        "id": "gWxETRswmNKe",
        "outputId": "917f1b99-86af-4c1c-e5b7-c11cb23f9fe6"
      },
      "execution_count": null,
      "outputs": [
        {
          "output_type": "stream",
          "name": "stdout",
          "text": [
            "list of files\n",
            "['.config', 'file.txt', 'sample_data']\n",
            "\n",
            "\n"
          ]
        }
      ]
    },
    {
      "cell_type": "code",
      "source": [
        "file1 = open('file1.text', 'r')\n",
        "file2 = open('file2.text', 'w')\n",
        "for line in file1:\n",
        "  file2.write(line)\n",
        "\n",
        "file1.close()\n",
        "file2.close()\n"
      ],
      "metadata": {
        "colab": {
          "base_uri": "https://localhost:8080/",
          "height": 211
        },
        "id": "aufJ8cfRoaf0",
        "outputId": "cfa3d8cc-b861-44d0-9136-57f6c3aeb251"
      },
      "execution_count": null,
      "outputs": [
        {
          "output_type": "error",
          "ename": "FileNotFoundError",
          "evalue": "[Errno 2] No such file or directory: 'file1.text'",
          "traceback": [
            "\u001b[0;31m---------------------------------------------------------------------------\u001b[0m",
            "\u001b[0;31mFileNotFoundError\u001b[0m                         Traceback (most recent call last)",
            "\u001b[0;32m<ipython-input-13-58d0e28f2982>\u001b[0m in \u001b[0;36m<cell line: 1>\u001b[0;34m()\u001b[0m\n\u001b[0;32m----> 1\u001b[0;31m \u001b[0mfile1\u001b[0m \u001b[0;34m=\u001b[0m \u001b[0mopen\u001b[0m\u001b[0;34m(\u001b[0m\u001b[0;34m'file1.text'\u001b[0m\u001b[0;34m,\u001b[0m \u001b[0;34m'r'\u001b[0m\u001b[0;34m)\u001b[0m\u001b[0;34m\u001b[0m\u001b[0;34m\u001b[0m\u001b[0m\n\u001b[0m\u001b[1;32m      2\u001b[0m \u001b[0mfile2\u001b[0m \u001b[0;34m=\u001b[0m \u001b[0mopen\u001b[0m\u001b[0;34m(\u001b[0m\u001b[0;34m'file2.text'\u001b[0m\u001b[0;34m,\u001b[0m \u001b[0;34m'w'\u001b[0m\u001b[0;34m)\u001b[0m\u001b[0;34m\u001b[0m\u001b[0;34m\u001b[0m\u001b[0m\n\u001b[1;32m      3\u001b[0m \u001b[0;32mfor\u001b[0m \u001b[0mline\u001b[0m \u001b[0;32min\u001b[0m \u001b[0mfile1\u001b[0m\u001b[0;34m:\u001b[0m\u001b[0;34m\u001b[0m\u001b[0;34m\u001b[0m\u001b[0m\n\u001b[1;32m      4\u001b[0m   \u001b[0mfile2\u001b[0m\u001b[0;34m.\u001b[0m\u001b[0mwrite\u001b[0m\u001b[0;34m(\u001b[0m\u001b[0mline\u001b[0m\u001b[0;34m)\u001b[0m\u001b[0;34m\u001b[0m\u001b[0;34m\u001b[0m\u001b[0m\n\u001b[1;32m      5\u001b[0m \u001b[0;34m\u001b[0m\u001b[0m\n",
            "\u001b[0;31mFileNotFoundError\u001b[0m: [Errno 2] No such file or directory: 'file1.text'"
          ]
        }
      ]
    },
    {
      "cell_type": "markdown",
      "source": [
        "# 5. How would you catch and handle division by zero error in Python ?\n"
      ],
      "metadata": {
        "id": "AfD3P5oZDfgN"
      }
    },
    {
      "cell_type": "code",
      "source": [
        "16/0"
      ],
      "metadata": {
        "id": "UginOGgDpz7-",
        "colab": {
          "base_uri": "https://localhost:8080/",
          "height": 141
        },
        "outputId": "dde6300d-13d4-45e7-b690-f9d430c77666"
      },
      "execution_count": null,
      "outputs": [
        {
          "output_type": "error",
          "ename": "ZeroDivisionError",
          "evalue": "division by zero",
          "traceback": [
            "\u001b[0;31m---------------------------------------------------------------------------\u001b[0m",
            "\u001b[0;31mZeroDivisionError\u001b[0m                         Traceback (most recent call last)",
            "\u001b[0;32m<ipython-input-1-48b6a09b2577>\u001b[0m in \u001b[0;36m<cell line: 1>\u001b[0;34m()\u001b[0m\n\u001b[0;32m----> 1\u001b[0;31m \u001b[0;36m16\u001b[0m\u001b[0;34m/\u001b[0m\u001b[0;36m0\u001b[0m\u001b[0;34m\u001b[0m\u001b[0;34m\u001b[0m\u001b[0m\n\u001b[0m",
            "\u001b[0;31mZeroDivisionError\u001b[0m: division by zero"
          ]
        }
      ]
    },
    {
      "cell_type": "code",
      "source": [
        "try:\n",
        "  16/0\n",
        "except ZeroDivisionError as e:\n",
        "  print('I am handling the zero division error:', e)"
      ],
      "metadata": {
        "colab": {
          "base_uri": "https://localhost:8080/"
        },
        "id": "FRcjaODcEHTj",
        "outputId": "99626ed9-18fa-41b3-ca71-b946f0e76f08"
      },
      "execution_count": null,
      "outputs": [
        {
          "output_type": "stream",
          "name": "stdout",
          "text": [
            "I am handling the zero division error: division by zero\n"
          ]
        }
      ]
    },
    {
      "cell_type": "markdown",
      "source": [
        "# 6. Write a Python program that logs an error message to a log file when a division by zero exception occurs.\n"
      ],
      "metadata": {
        "id": "Gkp-zTSTEyew"
      }
    },
    {
      "cell_type": "code",
      "source": [
        "import logging\n",
        "logging.basicConfig(filename = 'file.log', level = logging.DEBUG)\n",
        "try:\n",
        "  10/0\n",
        "  f = open('file.log', 'r')\n",
        "  f.read()\n",
        "except ZeroDivisionError as e:\n",
        "  logging.error(f'exception of zero division error {e}')"
      ],
      "metadata": {
        "colab": {
          "base_uri": "https://localhost:8080/"
        },
        "id": "wMyE6vd2I_Wp",
        "outputId": "fcea2cf1-1333-45f7-b825-d5d42d2dbaa9"
      },
      "execution_count": null,
      "outputs": [
        {
          "output_type": "stream",
          "name": "stderr",
          "text": [
            "ERROR:root:exception of zero division error division by zero\n"
          ]
        }
      ]
    },
    {
      "cell_type": "markdown",
      "source": [
        "# 7. How do you log information at different levels (INFO, ERROR, WARNING) in Python using the logging module ?\n"
      ],
      "metadata": {
        "id": "omLDjV1kMlEs"
      }
    },
    {
      "cell_type": "code",
      "source": [
        "import logging\n",
        "logging.basicConfig(filename = 'test.log', level = logging.INFO)\n",
        "logging.info('This is the information about the course')\n",
        "logging.warning('There can be empty list here')\n",
        "logging.error('Some error has happened')\n",
        "logging.shutdown()"
      ],
      "metadata": {
        "colab": {
          "base_uri": "https://localhost:8080/"
        },
        "id": "9Hj9Tn8yMdyu",
        "outputId": "36c96487-88a0-414b-bcd6-a5a52989aaa8"
      },
      "execution_count": null,
      "outputs": [
        {
          "output_type": "stream",
          "name": "stderr",
          "text": [
            "WARNING:root:There can be empty list here\n",
            "ERROR:root:Some error has happened\n"
          ]
        }
      ]
    },
    {
      "cell_type": "markdown",
      "source": [
        "# 8. Write a program to handle a file opening error using exception handling.\n"
      ],
      "metadata": {
        "id": "8w7F3Hz_QGxN"
      }
    },
    {
      "cell_type": "code",
      "source": [
        "import logging\n",
        "logging.basicConfig(filename = 'program.log', level = logging.DEBUG)\n",
        "try:\n",
        "  f = open('program.log', 'r')\n",
        "  f.read()\n",
        "except FileNotFoundError as e:\n",
        "  logging.error(f'My file was not found {e}')"
      ],
      "metadata": {
        "colab": {
          "base_uri": "https://localhost:8080/"
        },
        "id": "PlZdTVeAPCQX",
        "outputId": "d8c66047-cec2-44a9-f9dd-e6912425b72a"
      },
      "execution_count": null,
      "outputs": [
        {
          "output_type": "stream",
          "name": "stderr",
          "text": [
            "ERROR:root:My file was not found [Errno 2] No such file or directory: 'program.log'\n"
          ]
        }
      ]
    },
    {
      "cell_type": "markdown",
      "source": [
        "# 9. How can you read a file line by line and store its content in a list in Python ?\n"
      ],
      "metadata": {
        "id": "rvQq_BGKRciM"
      }
    },
    {
      "cell_type": "code",
      "source": [
        "file = open('file.txt', 'w')\n",
        "file.write('Welcome home jay\\n')\n",
        "file.write('Please be seated\\n')\n",
        "file.write('Would you like to have some tea?')\n",
        "file.close()"
      ],
      "metadata": {
        "id": "cjMOsh7wRURv"
      },
      "execution_count": null,
      "outputs": []
    },
    {
      "cell_type": "code",
      "source": [
        "f = open('file.txt', 'r')\n",
        "print(f.readlines())\n",
        "f.close()"
      ],
      "metadata": {
        "colab": {
          "base_uri": "https://localhost:8080/"
        },
        "id": "GogCtGTQwyOB",
        "outputId": "38de681b-2926-45e2-d4ff-79d1dc183086"
      },
      "execution_count": null,
      "outputs": [
        {
          "output_type": "stream",
          "name": "stdout",
          "text": [
            "['Welcome home jay\\n', 'Please be seated\\n', 'Would you like to have some tea?']\n"
          ]
        }
      ]
    },
    {
      "cell_type": "markdown",
      "source": [
        "# 10. How can you append data to an existing file in Python ?\n"
      ],
      "metadata": {
        "id": "Vfl8GPp3xdQD"
      }
    },
    {
      "cell_type": "code",
      "source": [
        "file = open('file.txt', 'a')\n",
        "file.write('Have a good day\\n')\n",
        "file.close()"
      ],
      "metadata": {
        "id": "ACOHgbcbxXUx"
      },
      "execution_count": null,
      "outputs": []
    },
    {
      "cell_type": "code",
      "source": [
        "file = open('file.txt', 'r')\n",
        "file"
      ],
      "metadata": {
        "colab": {
          "base_uri": "https://localhost:8080/"
        },
        "id": "Xa1i5tdZyQ4e",
        "outputId": "e130d355-a4e8-41b2-e58b-aa63c0e6b53d"
      },
      "execution_count": null,
      "outputs": [
        {
          "output_type": "execute_result",
          "data": {
            "text/plain": [
              "<_io.TextIOWrapper name='file.txt' mode='r' encoding='UTF-8'>"
            ]
          },
          "metadata": {},
          "execution_count": 4
        }
      ]
    },
    {
      "cell_type": "code",
      "source": [
        "for i in file:\n",
        "  print(i)"
      ],
      "metadata": {
        "colab": {
          "base_uri": "https://localhost:8080/"
        },
        "id": "1vHZ7UzuynLh",
        "outputId": "39984824-d78a-4a43-be28-4e40b82436d9"
      },
      "execution_count": null,
      "outputs": [
        {
          "output_type": "stream",
          "name": "stdout",
          "text": [
            "Welcome home jay\n",
            "\n",
            "Please be seated\n",
            "\n",
            "Would you like to have some tea?Have a good day\n",
            "\n"
          ]
        }
      ]
    },
    {
      "cell_type": "markdown",
      "source": [
        "# 11. Write a Python program that uses a try-except block to handle an error when attempting to access a dictionary key that doesn't exist."
      ],
      "metadata": {
        "id": "c0Gfcxx7y95b"
      }
    },
    {
      "cell_type": "code",
      "source": [
        "try:\n",
        "  student = {'Jay': 1, 'Ganesh' : 2}\n",
        "  print (student['Harshad'])\n",
        "except KeyError:\n",
        "  print('Student does not exist')"
      ],
      "metadata": {
        "id": "JRJcWZXEzXVK",
        "colab": {
          "base_uri": "https://localhost:8080/"
        },
        "outputId": "864ceb07-b1e8-442f-b549-c24afb897eef"
      },
      "execution_count": 1,
      "outputs": [
        {
          "output_type": "stream",
          "name": "stdout",
          "text": [
            "Student does not exist\n"
          ]
        }
      ]
    },
    {
      "cell_type": "code",
      "source": [],
      "metadata": {
        "id": "6eMlxnP91b4j"
      },
      "execution_count": null,
      "outputs": []
    },
    {
      "cell_type": "markdown",
      "source": [
        "# 12. Write a program that demonstrates using multiple except blocks to handle different types of exceptions.\n"
      ],
      "metadata": {
        "id": "253qFI9V1ddM"
      }
    },
    {
      "cell_type": "code",
      "source": [
        "try:\n",
        "  20/'Pranay'\n",
        "except ZeroDivisionError as e:\n",
        "  print('The division is not possible because of the error', e)\n",
        "except Exception as e:\n",
        "  print('The error is', e)"
      ],
      "metadata": {
        "colab": {
          "base_uri": "https://localhost:8080/"
        },
        "id": "MblXqRtO1-LE",
        "outputId": "d2b59f50-9b82-4271-f145-bd9e61c5a4f9"
      },
      "execution_count": null,
      "outputs": [
        {
          "output_type": "stream",
          "name": "stdout",
          "text": [
            "The error is unsupported operand type(s) for /: 'int' and 'str'\n"
          ]
        }
      ]
    },
    {
      "cell_type": "markdown",
      "source": [
        "# 13. How would you check if a file exists before attempting to read it in Python ?"
      ],
      "metadata": {
        "id": "MB80QXqx3mGz"
      }
    },
    {
      "cell_type": "markdown",
      "source": [
        " Answer. Using os. isfile() method in python is used to check if a file exists or not."
      ],
      "metadata": {
        "id": "lzg_EaOD5Va2"
      }
    },
    {
      "cell_type": "markdown",
      "source": [
        "# 14. Write a program that uses the logging module to log both informational and error messages.\n"
      ],
      "metadata": {
        "id": "8ZCoI5XY57hg"
      }
    },
    {
      "cell_type": "code",
      "source": [
        "import logging\n",
        "logging.basicConfig(filename = 'txt.new.log', level = logging.INFO)\n",
        "logging.info('This is the information about Data Analytics')\n",
        "logging.error('Some error has happened')\n",
        "logging.shutdown()"
      ],
      "metadata": {
        "id": "DI7vM_yK3iUP",
        "colab": {
          "base_uri": "https://localhost:8080/"
        },
        "outputId": "8d588106-fb54-45f8-bf89-40adf238612e"
      },
      "execution_count": null,
      "outputs": [
        {
          "output_type": "stream",
          "name": "stderr",
          "text": [
            "ERROR:root:Some error has happened\n"
          ]
        }
      ]
    },
    {
      "cell_type": "markdown",
      "source": [
        " # 15. Write a Python program that prints the content of a file and handles the case when the file is empty.\n",
        "\n"
      ],
      "metadata": {
        "id": "JwCDApI39_6w"
      }
    },
    {
      "cell_type": "code",
      "source": [
        "import os\n",
        "try:\n",
        "  file('file.txt')\n",
        "except Exception as e:\n",
        "  print('The file is empty')"
      ],
      "metadata": {
        "id": "fid3irfI-Px3",
        "colab": {
          "base_uri": "https://localhost:8080/"
        },
        "outputId": "09dcef2c-fd86-412e-f5d6-8dcfe4f17ead"
      },
      "execution_count": null,
      "outputs": [
        {
          "output_type": "stream",
          "name": "stdout",
          "text": [
            "The file is empty\n"
          ]
        }
      ]
    },
    {
      "cell_type": "markdown",
      "source": [
        "# 16. Demonstrate how to use memory profiling to check the memory usage of a small program.\n"
      ],
      "metadata": {
        "id": "ADYdLzKoHgY5"
      }
    },
    {
      "cell_type": "code",
      "source": [],
      "metadata": {
        "id": "fSmwgmjSM7g_"
      },
      "execution_count": null,
      "outputs": []
    },
    {
      "cell_type": "markdown",
      "source": [
        "# 17. Write a Python program to create and write a list of numbers to a file, one number per line\n"
      ],
      "metadata": {
        "id": "kmnah3OYSGiU"
      }
    },
    {
      "cell_type": "code",
      "source": [
        "file = open('file.txt', 'w')\n",
        "file.write('1\\n 2\\n 3\\n 4\\n 5\\n 6\\n 7\\n 8\\n')\n",
        "file.close()"
      ],
      "metadata": {
        "id": "G85A20DQSNJp"
      },
      "execution_count": null,
      "outputs": []
    },
    {
      "cell_type": "code",
      "source": [
        "f = open('file.txt', 'r')\n",
        "f.seek(0)\n",
        "print(f.read())\n",
        "f.close()"
      ],
      "metadata": {
        "colab": {
          "base_uri": "https://localhost:8080/"
        },
        "id": "9bYXKvHhCTjo",
        "outputId": "99be950e-fab9-49e1-a08c-299fc6bbdc8d"
      },
      "execution_count": null,
      "outputs": [
        {
          "output_type": "stream",
          "name": "stdout",
          "text": [
            "1\n",
            " 2\n",
            " 3\n",
            " 4\n",
            " 5\n",
            " 6\n",
            " 7\n",
            " 8\n",
            "\n"
          ]
        }
      ]
    },
    {
      "cell_type": "markdown",
      "source": [
        "# 18. How would you implement a basic logging setup that logs to a file with rotation after 1MB ?\n"
      ],
      "metadata": {
        "id": "AV6mFMylSRdZ"
      }
    },
    {
      "cell_type": "code",
      "source": [],
      "metadata": {
        "id": "v059IgJEScDh"
      },
      "execution_count": null,
      "outputs": []
    },
    {
      "cell_type": "markdown",
      "source": [
        "# 19. Write a program that handles both IndexError and KeyError using a try-except block.\n"
      ],
      "metadata": {
        "id": "R-mfnveOSdAR"
      }
    },
    {
      "cell_type": "code",
      "source": [
        "try:\n",
        "  d = {'Name':'Pranay'}\n",
        "  d =['Jay']\n",
        "except Exception as e:\n",
        "  print('Key error')\n",
        "  l = [1, 2, 3, 4]\n",
        "  l[4]\n",
        "except Exception as e:\n",
        "  print('Index error')"
      ],
      "metadata": {
        "id": "1g5539Hjck-q"
      },
      "execution_count": null,
      "outputs": []
    },
    {
      "cell_type": "markdown",
      "source": [
        "# 20. How would you open a file and read its contents using a context manager in Python ?\n"
      ],
      "metadata": {
        "id": "1exh2lA1Zs6j"
      }
    },
    {
      "cell_type": "code",
      "source": [
        "text_content = \"\"\"\n",
        "Welcome home\n",
        "Please be seated\n",
        "Be comfortable\n",
        "\"\"\"\n",
        "with open(\"file.test\", 'w') as file:\n",
        "  file.write(text_content)"
      ],
      "metadata": {
        "id": "K0o8XCIvhqE4"
      },
      "execution_count": null,
      "outputs": []
    },
    {
      "cell_type": "code",
      "source": [
        "with open(\"file.test\", 'r') as file:\n",
        "  data = file.read()\n",
        "print(data)"
      ],
      "metadata": {
        "colab": {
          "base_uri": "https://localhost:8080/"
        },
        "id": "5Jc9bJrxkuDY",
        "outputId": "10c09fcd-c7a3-4f5d-fc41-7c00997ab528"
      },
      "execution_count": null,
      "outputs": [
        {
          "output_type": "stream",
          "name": "stdout",
          "text": [
            "\n",
            "Welcome home\n",
            "Please be seated\n",
            "Be comfortable\n",
            "\n"
          ]
        }
      ]
    },
    {
      "cell_type": "markdown",
      "source": [
        " # 21. Write a Python program that reads a file and prints the number of occurrences of a specific word.\n"
      ],
      "metadata": {
        "id": "m8EuH98kZ4o3"
      }
    },
    {
      "cell_type": "code",
      "source": [
        "file = open('file.txt', 'w')"
      ],
      "metadata": {
        "id": "9maxu9sSaAvW"
      },
      "execution_count": null,
      "outputs": []
    },
    {
      "cell_type": "code",
      "source": [
        "file.write('My name is Jay, and my full name is Jay more')"
      ],
      "metadata": {
        "colab": {
          "base_uri": "https://localhost:8080/"
        },
        "id": "UR93YrsfrXaS",
        "outputId": "2fe4397c-5143-403c-c563-16524ac4df9e"
      },
      "execution_count": null,
      "outputs": [
        {
          "output_type": "execute_result",
          "data": {
            "text/plain": [
              "44"
            ]
          },
          "metadata": {},
          "execution_count": 2
        }
      ]
    },
    {
      "cell_type": "code",
      "source": [
        "def word_count(str):\n",
        "  counts = dict()\n",
        "  words = str.split()\n",
        "  for word in words:\n",
        "    if word in counts:\n",
        "      counts[word] += 1\n",
        "    else:\n",
        "      counts[word] = 1\n",
        "  return counts\n",
        "print(word_count('My name is Jay and my full name is Jay more.'))"
      ],
      "metadata": {
        "colab": {
          "base_uri": "https://localhost:8080/"
        },
        "id": "0LzcYT36u9jF",
        "outputId": "5f898d3f-0c3c-42e1-f8a8-3436ac7b9d8c"
      },
      "execution_count": null,
      "outputs": [
        {
          "output_type": "stream",
          "name": "stdout",
          "text": [
            "{'My': 1, 'name': 2, 'is': 2, 'Jay': 2, 'and': 1, 'my': 1, 'full': 1, 'more.': 1}\n"
          ]
        }
      ]
    },
    {
      "cell_type": "markdown",
      "source": [
        " # 22. How can you check if a file is empty before attempting to read its contents ?\n"
      ],
      "metadata": {
        "id": "f-ZuP_ZmaE0q"
      }
    },
    {
      "cell_type": "code",
      "source": [
        "file_path = open('file.text', 'w')"
      ],
      "metadata": {
        "id": "Vp0e2II7aPRz"
      },
      "execution_count": null,
      "outputs": []
    },
    {
      "cell_type": "code",
      "source": [
        "open('file.text', 'r')"
      ],
      "metadata": {
        "colab": {
          "base_uri": "https://localhost:8080/"
        },
        "id": "_KOFfMB3z5QH",
        "outputId": "9c2d052a-a772-48bd-9056-fa007154a8db"
      },
      "execution_count": null,
      "outputs": [
        {
          "output_type": "execute_result",
          "data": {
            "text/plain": [
              "<_io.TextIOWrapper name='file.text' mode='r' encoding='UTF-8'>"
            ]
          },
          "metadata": {},
          "execution_count": 19
        }
      ]
    },
    {
      "cell_type": "code",
      "source": [
        "import os\n",
        "file_path = 'file.text'\n",
        "\n",
        "try:\n",
        "    file_size = os.stat(file_path).st_size\n",
        "\n",
        "    if (file_size == 0):\n",
        "        print('File is empty')\n",
        "    else:\n",
        "        print('File is NOT empty')\n",
        "\n",
        "except FileNotFoundError as e:\n",
        "    print('File NOT found')"
      ],
      "metadata": {
        "colab": {
          "base_uri": "https://localhost:8080/"
        },
        "id": "tgaljih60X3L",
        "outputId": "12885972-13f1-44cb-c695-a2be7562ec95"
      },
      "execution_count": null,
      "outputs": [
        {
          "output_type": "stream",
          "name": "stdout",
          "text": [
            "File is empty\n"
          ]
        }
      ]
    }
  ]
}